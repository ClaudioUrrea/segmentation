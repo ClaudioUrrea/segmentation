{
 "cells": [
  {
   "cell_type": "markdown",
   "metadata": {},
   "source": [
    "# Batch Evaluation\n",
    "\n",
    "This notebook evaluates the model on a batch of images from target domains."
   ]
  },
  {
   "cell_type": "code",
   "execution_count": null,
   "metadata": {},
   "outputs": [],
   "source": [
    "import os\n",
    "from mmseg.apis import init_segmentor, inference_segmentor\n",
    "from utils.evaluation_metrics import compute_miou\n",
    "import numpy as np\n",
    "\n",
    "# Configuration\n",
    "config_file = '../mmsegmentation/configs/ResNet/Resnet_lr0.001_Clahe_photo.py'\n",
    "checkpoint_file = '../mmsegmentation/checkpoints/trained_models/ResNet50_optimal_checkpoint.pth'\n",
    "test_dir = '../data/automine1d_distortion/lens_soiling/images'\n",
    "ann_dir = '../data/automine1d_distortion/lens_soiling/annotations'\n",
    "\n",
    "# Initialize model\n",
    "model = init_segmentor(config_file, checkpoint_file, device='cuda:0')\n",
    "\n",
    "# Collect results\n",
    "miou_scores = []\n",
    "for img_file in os.listdir(test_dir):\n",
    "    img_path = os.path.join(test_dir, img_file)\n",
    "    ann_path = os.path.join(ann_dir, img_file.replace('.jpg', '.png'))\n",
    "    result = inference_segmentor(model, img_path)\n",
    "    gt_mask = np.load(ann_path)  # Assume masks are numpy arrays; adjust as needed\n",
    "    miou = compute_miou([result], [gt_mask])\n",
    "    miou_scores.append(miou)\n",
    "\n",
    "print(f'Average mIoU: {np.mean(miou_scores):.2%}')\n",
    "print(f'Std Dev: {np.std(miou_scores):.2f}')"
   ]
  }
 ],
 "metadata": {
  "kernelspec": {
   "display_name": "Python 3",
   "language": "python",
   "name": "python3"
  },
  "language_info": {
   "codemirror_mode": {
    "name": "ipython",
    "version": 3
   },
   "file_extension": ".py",
   "mimetype": "text/x-python",
   "name": "python",
   "nbconvert_exporter": "python",
   "pygments_lexer": "ipython3",
   "version": "3.8.0"
  }
 },
 "nbformat": 4,
 "nbformat_minor": 4
}
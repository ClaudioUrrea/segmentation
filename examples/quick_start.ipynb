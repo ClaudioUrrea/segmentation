{
 "cells": [
  {
   "cell_type": "markdown",
   "metadata": {},
   "source": [
    "# Quick Start: Intelligent Mining Systems\n",
    "\n",
    "This notebook provides a quick start for training and inference."
   ]
  },
  {
   "cell_type": "code",
   "execution_count": null,
   "metadata": {},
   "outputs": [],
   "source": [
    "# Import necessary modules\n",
    "from mmseg.apis import init_segmentor, inference_segmentor, train_segmentor\n",
    "\n",
    "# Load config and checkpoint\n",
    "config_file = '../mmsegmentation/configs/ResNet/Resnet_lr0.001_Clahe_photo.py'\n",
    "checkpoint_file = '../mmsegmentation/checkpoints/pretrained_weights/resnet50_v1c.pth'\n",
    "\n",
    "# Initialize model\n",
    "model = init_segmentor(config_file, checkpoint_file, device='cuda:0')\n",
    "\n",
    "# Quick inference example\n",
    "img_path = '../data/automine1d/images/IMG_001.jpg'\n",
    "result = inference_segmentor(model, img_path)\n",
    "print('Segmentation result shape:', result[0].shape)\n",
    "\n",
    "# Quick training snippet (limited iterations for demo)\n",
    "train_segmentor(model, cfg=config_file, max_iters=100, evaluate=False)"
   ]
  }
 ],
 "metadata": {
  "kernelspec": {
   "display_name": "Python 3",
   "language": "python",
   "name": "python3"
  },
  "language_info": {
   "codemirror_mode": {
    "name": "ipython",
    "version": 3
   },
   "file_extension": ".py",
   "mimetype": "text/x-python",
   "name": "python",
   "nbconvert_exporter": "python",
   "pygments_lexer": "ipython3",
   "version": "3.8.0"
  }
 },
 "nbformat": 4,
 "nbformat_minor": 4
}
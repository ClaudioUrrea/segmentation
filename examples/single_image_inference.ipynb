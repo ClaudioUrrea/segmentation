{
 "cells": [
  {
   "cell_type": "markdown",
   "metadata": {},
   "source": [
    "# Single Image Inference\n",
    "\n",
    "This notebook performs inference on a single image using a trained model."
   ]
  },
  {
   "cell_type": "code",
   "execution_count": null,
   "metadata": {},
   "outputs": [],
   "source": [
    "from mmseg.apis import inference_segmentor, init_segmentor\n",
    "import cv2\n",
    "\n",
    "# Configuration\n",
    "config_file = 'mmsegmentation/configs/ResNet/Resnet_lr0.001_Clahe_photo.py'\n",
    "checkpoint_file = 'mmsegmentation/checkpoints/trained_models/resnet50_optimal.pth'\n",
    "img_path = 'data/automine1d/images/IMG_001.jpg'\n",
    "\n",
    "# Initialize model\n",
    "model = init_segmentor(config_file, checkpoint_file, device='cuda:0')\n",
    "\n",
    "# Perform inference\n",
    "result = inference_segmentor(model, img_path)\n",
    "\n",
    "# Visualize\n",
    "img = cv2.imread(img_path)\n",
    "model.show_result(img, result, out_file='results/qualitative_results/inference_IMG_001.png')"
   ]
  }
 ],
 "metadata": {
  "kernelspec": {
   "display_name": "Python 3",
   "language": "python",
   "name": "python3"
  },
  "language_info": {
   "codemirror_mode": {
    "name": "ipython",
    "version": 3
   },
   "file_extension": ".py",
   "mimetype": "text/x-python",
   "name": "python",
   "nbconvert_exporter": "python",
   "pygments_lexer": "ipython3",
   "version": "3.8.0"
  }
 },
 "nbformat": 4,
 "nbformat_minor": 4
}
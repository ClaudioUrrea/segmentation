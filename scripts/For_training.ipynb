{
 "cells": [
  {
   "cell_type": "code",
   "execution_count": null,
   "id": "59f3e253-2c30-43ce-a54f-4b9b1239fc63",
   "metadata": {},
   "outputs": [],
   "source": [
    "import os\n",
    "os.chdir('mmsegmentation')"
   ]
  },
  {
   "cell_type": "code",
   "execution_count": null,
   "id": "de897d6d",
   "metadata": {},
   "outputs": [],
   "source": [
    "!PYTHONPATH=. python tools/train.py configs/MobileNet/Mobilnet_lr0.0001_Clahe_photo.py"
   ]
  }
 ],
 "metadata": {
  "kernelspec": {
   "display_name": "Python (open-mmlab-respaldo2)",
   "language": "python",
   "name": "mmseg_clon_safe"
  },
  "language_info": {
   "codemirror_mode": {
    "name": "ipython",
    "version": 3
   },
   "file_extension": ".py",
   "mimetype": "text/x-python",
   "name": "python",
   "nbconvert_exporter": "python",
   "pygments_lexer": "ipython3",
   "version": "3.8.20"
  }
 },
 "nbformat": 4,
 "nbformat_minor": 5
}

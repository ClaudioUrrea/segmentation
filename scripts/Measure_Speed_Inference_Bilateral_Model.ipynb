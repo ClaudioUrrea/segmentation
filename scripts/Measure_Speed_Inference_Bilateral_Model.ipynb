{
 "cells": [
  {
   "cell_type": "code",
   "execution_count": null,
   "id": "ad76889e-6586-4cd1-83bc-91ba4f0c45f8",
   "metadata": {},
   "outputs": [],
   "source": [
    "import os\n",
    "os.chdir('/mmsegmentation')"
   ]
  },
  {
   "cell_type": "code",
   "execution_count": null,
   "id": "c2e0cbea",
   "metadata": {},
   "outputs": [],
   "source": [
    "import time\n",
    "import torch\n",
    "from mmengine.config import Config\n",
    "from mmseg.utils import register_all_modules\n",
    "from mmseg.registry import MODELS, DATASETS\n",
    "from mmengine.runner import load_checkpoint\n",
    "from mmengine.dataset import default_collate\n",
    "\n",
    "# LOAD CONFIGURATION AND REGISTER MODULES\n",
    "cfg_path = '/configs/model_config.py'\n",
    "cfg = Config.fromfile(cfg_path)\n",
    "register_all_modules()\n",
    "\n",
    "# BUILD MODEL\n",
    "model = MODELS.build(cfg.model)\n",
    "model.cuda()\n",
    "model.eval()\n",
    "\n",
    "# LOAD CHECKPOINT\n",
    "checkpoint_path = 'work_dirs/best_checkpoint.pth'\n",
    "load_checkpoint(model, checkpoint_path, map_location='cuda')\n",
    "\n",
    "# LOAD VALIDATION DATASET\n",
    "val_dataset_cfg = cfg.val_dataloader['dataset']\n",
    "val_dataset = DATASETS.build(val_dataset_cfg)\n",
    "\n",
    "# MEASUREMENT SETTINGS\n",
    "n_repeats = 10\n",
    "total_imgs = len(val_dataset) * n_repeats\n",
    "print(f\"Evaluating {len(val_dataset)} images × {n_repeats} repetitions = {total_imgs} inferences\")\n",
    "\n",
    "# MEASURE INFERENCE SPEED\n",
    "total_time = 0.0\n",
    "with torch.no_grad():\n",
    "    for r in range(n_repeats):\n",
    "        for i in range(len(val_dataset)):\n",
    "            data = val_dataset[i]\n",
    "            batch = default_collate([data])\n",
    "            batch = {k: v.cuda() if isinstance(v, torch.Tensor) else v for k, v in batch.items()}\n",
    "            batch['data_samples'] = [ds.to('cuda') for ds in batch['data_samples']]\n",
    "\n",
    "            start = time.time()\n",
    "            _ = model.test_step(batch)\n",
    "            end = time.time()\n",
    "            total_time += (end - start)\n",
    "\n",
    "# RESULTS\n",
    "avg_time = total_time / total_imgs\n",
    "fps = 1.0 / avg_time\n",
    "\n",
    "print(f\"\\n INFERENCE COMPLETED\")\n",
    "print(f\"Average time per image: {avg_time:.4f} seconds\")\n",
    "print(f\"Average FPS: {fps:.2f} frames/second\")"
   ]
  }
 ],
 "metadata": {
  "kernelspec": {
   "display_name": "Python 3 (ipykernel)",
   "language": "python",
   "name": "python3"
  },
  "language_info": {
   "codemirror_mode": {
    "name": "ipython",
    "version": 3
   },
   "file_extension": ".py",
   "mimetype": "text/x-python",
   "name": "python",
   "nbconvert_exporter": "python",
   "pygments_lexer": "ipython3",
   "version": "3.8.20"
  }
 },
 "nbformat": 4,
 "nbformat_minor": 5
}

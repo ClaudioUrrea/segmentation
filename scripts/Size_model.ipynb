{
 "cells": [
  {
   "cell_type": "code",
   "execution_count": 1,
   "id": "053beefe-ce68-4c47-a150-01a5d8468af5",
   "metadata": {},
   "outputs": [],
   "source": [
    "#cargar los logs"
   ]
  },
  {
   "cell_type": "code",
   "execution_count": null,
   "id": "ad76889e-6586-4cd1-83bc-91ba4f0c45f8",
   "metadata": {},
   "outputs": [],
   "source": [
    "import os\n",
    "os.chdir('/mmsegmentation')"
   ]
  },
  {
   "cell_type": "code",
   "execution_count": null,
   "id": "41a381c3-f6d4-4ae2-94c5-d8e19b564510",
   "metadata": {},
   "outputs": [],
   "source": [
    "from mmengine.config import Config\n",
    "from mmseg.registry import MODELS\n",
    "from mmengine.runner import load_checkpoint\n",
    "from mmseg.utils import register_all_modules \n",
    "import os\n",
    "import torch\n",
    "\n",
    "# REGISTER MMSegmentation MODULES\n",
    "register_all_modules()\n",
    "\n",
    "# PATH TO THE CONFIGURATION FILE\n",
    "cfg_path = '/configs/model_config.py'\n",
    "cfg = Config.fromfile(cfg_path)\n",
    "\n",
    "# MODEL BUILDING\n",
    "model = MODELS.build(cfg.model)\n",
    "\n",
    "# LOAD PRETRAINED CHECKPOINT IF AVAILABLE\n",
    "checkpoint_path = 'work_dirs/best_checkpoint.pth'\n",
    "if checkpoint_path and os.path.exists(checkpoint_path):\n",
    "    print(f'Loading checkpoint from: {checkpoint_path}')\n",
    "    load_checkpoint(model, checkpoint_path, map_location='cpu')\n",
    "else:\n",
    "    print('No checkpoint was loaded.')\n",
    "\n",
    "# MODEL PARAMETERS\n",
    "total_params = sum(p.numel() for p in model.parameters())\n",
    "trainable_params = sum(p.numel() for p in model.parameters() if p.requires_grad)\n",
    "model_size_mb = total_params * 4 / (1024 ** 2)  # Assuming float32 = 4 bytes\n",
    "\n",
    "print(f\"\\n📊 MODEL INFORMATION:\")\n",
    "print(f\"Total parameters: {total_params:,}\")\n",
    "print(f\"Trainable parameters: {trainable_params:,}\")\n",
    "print(f\"Estimated model size in memory: {model_size_mb:.2f} MB\")\n",
    "\n",
    "# CHECKPOINT FILE SIZE IF AVAILABLE\n",
    "if checkpoint_path and os.path.exists(checkpoint_path):\n",
    "    ckpt_size_mb = os.path.getsize(checkpoint_path) / (1024 ** 2)\n",
    "    print(f\"Checkpoint file size (.pth): {ckpt_size_mb:.2f} MB\")\n"
   ]
  }
 ],
 "metadata": {
  "kernelspec": {
   "display_name": "Python 3 (ipykernel)",
   "language": "python",
   "name": "python3"
  },
  "language_info": {
   "codemirror_mode": {
    "name": "ipython",
    "version": 3
   },
   "file_extension": ".py",
   "mimetype": "text/x-python",
   "name": "python",
   "nbconvert_exporter": "python",
   "pygments_lexer": "ipython3",
   "version": "3.8.20"
  }
 },
 "nbformat": 4,
 "nbformat_minor": 5
}

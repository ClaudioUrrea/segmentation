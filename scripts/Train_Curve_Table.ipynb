{
 "cells": [
  {
   "cell_type": "code",
   "execution_count": null,
   "id": "ad76889e-6586-4cd1-83bc-91ba4f0c45f8",
   "metadata": {},
   "outputs": [],
   "source": [
    "import os\n",
    "os.chdir('/mmsegmentation')"
   ]
  },
  {
   "cell_type": "code",
   "execution_count": null,
   "id": "657c8011-4d84-4bfe-a29a-c104e969b980",
   "metadata": {},
   "outputs": [],
   "source": [
    "import json\n",
    "import pandas as pd\n",
    "import matplotlib.pyplot as plt\n",
    "import os\n",
    "\n",
    "# CONFIGURATION\n",
    "\n",
    "# Path to the JSON file\n",
    "log_json = '/20250707_004059.json'  # path to the JSON file generated during training\n",
    "\n",
    "# Folder where the file will be saved\n",
    "output_dir = '/home/mmsegmentation/work_dirs/'\n",
    "\n",
    "# Custom file name\n",
    "file_name = 'training_curve.xlsx'\n",
    "excel_path = os.path.join(output_dir, file_name)\n",
    "\n",
    "# DATA READING AND MERGING\n",
    "\n",
    "# Read the entire file\n",
    "records = []\n",
    "with open(log_json, 'r') as f:\n",
    "    for line in f:\n",
    "        records.append(json.loads(line))\n",
    "df = pd.DataFrame(records)\n",
    "\n",
    "# Filter training and validation\n",
    "train_df = df[df['loss'].notna()][['step', 'loss']]\n",
    "val_records = []\n",
    "with open(log_json, 'r') as f:\n",
    "    for line in f:\n",
    "        line_data = json.loads(line)\n",
    "        if 'mIoU' in line_data:\n",
    "            val_records.append(line_data)\n",
    "val_df = pd.DataFrame(val_records)[['step', 'mIoU']]\n",
    "\n",
    "# Merge by 'step'\n",
    "merged_df = pd.merge(train_df, val_df, on='step', how='outer').sort_values(by='step')\n",
    "merged_df.rename(columns={'step': 'iter'}, inplace=True)\n",
    "merged_df = merged_df[['iter', 'loss', 'mIoU']]\n",
    "\n",
    "# SAVE FILE\n",
    "merged_df.to_excel(excel_path, index=False)\n",
    "print(f'✅ File saved as:\\n{excel_path}')\n"
   ]
  }
 ],
 "metadata": {
  "kernelspec": {
   "display_name": "Python 3 (ipykernel)",
   "language": "python",
   "name": "python3"
  },
  "language_info": {
   "codemirror_mode": {
    "name": "ipython",
    "version": 3
   },
   "file_extension": ".py",
   "mimetype": "text/x-python",
   "name": "python",
   "nbconvert_exporter": "python",
   "pygments_lexer": "ipython3",
   "version": "3.8.20"
  }
 },
 "nbformat": 4,
 "nbformat_minor": 5
}
